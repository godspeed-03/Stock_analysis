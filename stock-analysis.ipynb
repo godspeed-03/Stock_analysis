{
 "cells": [
  {
   "cell_type": "code",
   "execution_count": null,
   "id": "ae2b2a94-711b-426f-b9d4-de291c5e8577",
   "metadata": {},
   "outputs": [],
   "source": [
    "#Let's go ahead and start with some python library imports\n",
    "import pandas as pd\n",
    "from pandas import Series,DataFrame\n",
    "import numpy as np"
   ]
  },
  {
   "cell_type": "code",
   "execution_count": null,
   "id": "68678c73-1667-4333-9a5b-9b345489f32f",
   "metadata": {},
   "outputs": [],
   "source": [
    "# For Visualization\n",
    "import matplotlib.pyplot as plt\n",
    "import seaborn as sns\n",
    "sns.set_style('whitegrid')\n",
    "%matplotlib inline"
   ]
  },
  {
   "cell_type": "code",
   "execution_count": null,
   "id": "f96ea8b2-91ca-46a5-86e7-458077168513",
   "metadata": {},
   "outputs": [],
   "source": [
    "#to get rid of import error of pandas_datareader \n",
    "pd.core.common.is_list_like = pd.api.types.is_list_like\n",
    "# For reading stock data from The Investors Exchange (IEX)\n",
    "import pandas_datareader as web\n",
    "# For time stamps\n",
    "from datetime import datetime\n",
    "\n",
    "# For division\n",
    "from __future__ import division"
   ]
  },
  {
   "cell_type": "code",
   "execution_count": null,
   "id": "3ee695b9-4809-44dc-9311-fc0376f61424",
   "metadata": {},
   "outputs": [],
   "source": [
    "import yfinance as yf\n",
    "import pandas as pd\n",
    "\n",
    "# Define stock symbols and time period\n",
    "tech_list = ['AAPL', 'GOOG', 'MSFT', 'AMZN']\n",
    "start_date = '2023-10-01'  \n",
    "end_date = datetime.now()\n",
    "\n",
    "# Fetch and display data\n",
    "for stock in tech_list:\n",
    "    try:\n",
    "        # Fetch historical stock prices\n",
    "        df = yf.download(stock, start=start_date, end=end_date)\n",
    "        globals()[stock] = df\n",
    "        print(f\"Data for {stock} fetched successfully.\")\n",
    "    except Exception as e:\n",
    "        print(f\"Failed to fetch data for {stock}: {e}\")\n",
    "\n",
    "# Optionally, display a few rows of data for verification\n",
    "# print(AAPL.head())\n",
    "# print(GOOG.head())\n",
    "# print(MSFT.head())\n",
    "# print(AMZN.head())\n"
   ]
  },
  {
   "cell_type": "code",
   "execution_count": null,
   "id": "98602fb9-ccba-4fd1-988e-a778c02fc9a5",
   "metadata": {},
   "outputs": [],
   "source": [
    "AAPL.head()"
   ]
  },
  {
   "cell_type": "code",
   "execution_count": null,
   "id": "4b1cac65-b6cd-48eb-ac1c-79826b3d108a",
   "metadata": {},
   "outputs": [],
   "source": [
    "AAPL.describe()"
   ]
  },
  {
   "cell_type": "code",
   "execution_count": null,
   "id": "72cada93-13cc-44ec-9780-1a0d528084fd",
   "metadata": {},
   "outputs": [],
   "source": [
    "AAPL.info()"
   ]
  },
  {
   "cell_type": "code",
   "execution_count": null,
   "id": "4482ad56-c923-4c2a-8e68-3e2ef47a2c21",
   "metadata": {},
   "outputs": [],
   "source": [
    "AAPL['Close'].plot(legend=True, figsize=(12, 6))\n",
    "plt.title('AAPL Closing Prices')\n",
    "plt.xlabel('Date')\n",
    "plt.ylabel('Closing Price')\n",
    "plt.show()"
   ]
  },
  {
   "cell_type": "code",
   "execution_count": null,
   "id": "22323f66-58af-4f1f-983e-8d75d3aeedd8",
   "metadata": {},
   "outputs": [],
   "source": [
    "AAPL['Volume'].plot(legend=True, figsize=(12, 6))\n",
    "plt.title('AAPL Volume Prices')\n",
    "plt.xlabel('Date')\n",
    "plt.ylabel('Volume Price')\n",
    "plt.show()"
   ]
  },
  {
   "cell_type": "code",
   "execution_count": null,
   "id": "6c599525-6824-4461-9e11-0de22e7222de",
   "metadata": {},
   "outputs": [],
   "source": [
    "# Let's go ahead and plot out several moving averages\n",
    "ma_day = [10,20,50]\n",
    "\n",
    "for ma in ma_day:\n",
    "    column_name = \"MA for %s days\" %(str(ma))\n",
    "    AAPL[column_name]=pd.DataFrame.rolling(AAPL['Close'],ma).mean()"
   ]
  },
  {
   "cell_type": "code",
   "execution_count": null,
   "id": "1bae8274-d365-4ff7-a96c-028fefdef736",
   "metadata": {},
   "outputs": [],
   "source": [
    "AAPL[['Close','MA for 10 days','MA for 20 days','MA for 50 days']].plot(subplots=False,figsize=(12,6))\n",
    "plt.show()"
   ]
  },
  {
   "cell_type": "code",
   "execution_count": null,
   "id": "867a4237-e5cd-4da3-9d74-6aaccd75f09a",
   "metadata": {},
   "outputs": [],
   "source": [
    "# use pct_change to find the percent change for each day\n",
    "AAPL['Daily Return'] = AAPL['Close'].pct_change()\n",
    "# plot the daily return percentage\n",
    "AAPL['Daily Return'].plot(figsize=(12,5),legend=True,linestyle='--',marker='o')\n",
    "plt.show()"
   ]
  },
  {
   "cell_type": "code",
   "execution_count": null,
   "id": "a5808fff-27c0-40af-a154-c9c73670c554",
   "metadata": {},
   "outputs": [],
   "source": [
    "# Note the use of dropna() here, otherwise the NaN values can't be read by seaborn\n",
    "sns.histplot(AAPL['Daily Return'].dropna(), bins=100, color='blue', kde=True)\n",
    "plt.title('Distribution of Daily Returns for AAPL')\n",
    "plt.xlabel('Daily Return')\n",
    "plt.ylabel('Frequency')\n",
    "plt.show()"
   ]
  },
  {
   "cell_type": "code",
   "execution_count": null,
   "id": "b86f2290-8ce4-4d54-93b6-ca49e4d45683",
   "metadata": {},
   "outputs": [],
   "source": [
    "# Create DataFrames with appropriate column names\n",
    "closing_df1 = pd.DataFrame(AAPL['Close']).rename(columns={\"Close\": \"AAPL_Close\"})\n",
    "closing_df2 = pd.DataFrame(GOOG['Close']).rename(columns={\"Close\": \"GOOG_Close\"})\n",
    "closing_df3 = pd.DataFrame(MSFT['Close']).rename(columns={\"Close\": \"MSFT_Close\"})\n",
    "closing_df4 = pd.DataFrame(AMZN['Close']).rename(columns={\"Close\": \"AMZN_Close\"})\n",
    "\n",
    "# Concatenate the DataFrames along columns\n",
    "closing_df = pd.concat([closing_df1, closing_df2, closing_df3, closing_df4], axis=1)\n",
    "\n",
    "# Display the first few rows to verify\n",
    "closing_df.head()\n",
    "\n",
    "# Percent change data\n",
    "tech_returns = closing_df.pct_change()"
   ]
  },
  {
   "cell_type": "code",
   "execution_count": null,
   "id": "723adedc-946f-46cb-bdbf-5331fc49fc81",
   "metadata": {},
   "outputs": [],
   "source": [
    "sns.jointplot(x='GOOG_Close', y='GOOG_Close', data=tech_returns, kind='scatter', color='seagreen')\n",
    "\n",
    "plt.show()"
   ]
  },
  {
   "cell_type": "code",
   "execution_count": null,
   "id": "6ddee74c-7e33-401c-8bbe-735a72fe6a5e",
   "metadata": {},
   "outputs": [],
   "source": [
    "sns.jointplot(x='GOOG_Close', y='MSFT_Close', data=tech_returns, kind='scatter', color='blue')\n",
    "\n",
    "plt.show()"
   ]
  },
  {
   "cell_type": "code",
   "execution_count": null,
   "id": "6b29f3db-5592-42ea-97bd-2eb49933e23b",
   "metadata": {},
   "outputs": [],
   "source": [
    "from IPython.display import SVG\n",
    "SVG(url='http://upload.wikimedia.org/wikipedia/commons/d/d4/Correlation_examples2.svg')"
   ]
  },
  {
   "cell_type": "code",
   "execution_count": null,
   "id": "578a28fc-46ba-4649-8833-e6fae3ff9bde",
   "metadata": {},
   "outputs": [],
   "source": [
    "# We can simply call pairplot on our DataFrame for an automatic visual analysis of all the comparisons\n",
    "sns.pairplot(tech_returns.dropna())\n",
    "plt.show()"
   ]
  },
  {
   "cell_type": "code",
   "execution_count": null,
   "id": "a0816774-d294-4448-839d-8dbf6bfb0ae1",
   "metadata": {},
   "outputs": [],
   "source": [
    "#It may arise warnings, to ignore warnings\n",
    "import warnings\n",
    "warnings.filterwarnings('ignore')\n",
    "# Set up our figure by naming it returns_fig, call PairPLot on the DataFrame\n",
    "returns_fig = sns.PairGrid(tech_returns.dropna())\n",
    "\n",
    "# Using map_upper we can specify what the upper triangle will look like.\n",
    "returns_fig.map_upper(plt.scatter,color='purple')\n",
    "\n",
    "# We can also define the lower triangle in the figure, inclufing the plot type (kde) or the color map (BluePurple)\n",
    "returns_fig.map_lower(sns.kdeplot,cmap='cool_d')\n",
    "\n",
    "# Finally we'll define the diagonal as a series of histogram plots of the daily return\n",
    "returns_fig.map_diag(plt.hist,bins=30)\n",
    "\n",
    "\n",
    "plt.show()"
   ]
  },
  {
   "cell_type": "code",
   "execution_count": null,
   "id": "3a7aec1f-abaa-4193-b3c0-18ee5a184dd7",
   "metadata": {},
   "outputs": [],
   "source": [
    "# Set up our figure by naming it returns_fig, call PairPLot on the DataFrame\n",
    "returns_fig = sns.PairGrid(closing_df)\n",
    "\n",
    "# Using map_upper we can specify what the upper triangle will look like.\n",
    "returns_fig.map_upper(plt.scatter,color='purple')\n",
    "\n",
    "# We can also define the lower triangle in the figure, inclufing the plot type (kde) or the color map (BluePurple)\n",
    "returns_fig.map_lower(sns.kdeplot,cmap='cool_d')\n",
    "\n",
    "# Finally we'll define the diagonal as a series of histogram plots of the closing price\n",
    "returns_fig.map_diag(plt.hist,bins=30)\n",
    "\n",
    "plt.show()"
   ]
  },
  {
   "cell_type": "code",
   "execution_count": null,
   "id": "7758a707-b401-4d86-a1c7-48d26bfd13bc",
   "metadata": {},
   "outputs": [],
   "source": [
    "# use sebron for a quick correlation plot for the daily returns\n",
    "\n",
    "# Compute the correlation matrix\n",
    "corr = tech_returns.dropna().corr()\n",
    "\n",
    "# Generate a mask for the upper triangle\n",
    "mask = np.zeros_like(corr)\n",
    "mask[np.triu_indices_from(mask)] = True\n",
    "\n",
    "# Set up the matplotlib figure\n",
    "fig, ax = plt.subplots(figsize=(11, 9))\n",
    "\n",
    "# Generate a custom diverging colormap\n",
    "cmap = sns.diverging_palette(220, 10, as_cmap=True)\n",
    "\n",
    "# Draw the heatmap with the mask and correct aspect ratio\n",
    "sns.heatmap(corr, mask=mask, cmap=cmap, annot = True)\n",
    "plt.show()"
   ]
  },
  {
   "cell_type": "code",
   "execution_count": null,
   "id": "6f1e21c4-664c-48cd-84c5-6754ca0960e0",
   "metadata": {},
   "outputs": [],
   "source": [
    "# Let's start by defining a new DataFrame as a clenaed version of the oriignal tech_returns DataFrame\n",
    "rets = tech_returns.dropna()\n",
    "\n",
    "area = np.pi*20\n",
    "\n",
    "plt.scatter(rets.mean(), rets.std(),alpha = 0.5,s =area)\n",
    "\n",
    "#Set the plot axis titles\n",
    "plt.xlabel('Expected returns')\n",
    "plt.ylabel('Risk')\n",
    "\n",
    "# Set the x and y limits of the plot\n",
    "plt.ylim([0.01,0.025])\n",
    "plt.xlim([-0.003,0.005])\n",
    "\n",
    "# Label the scatter plots\n",
    "for label, x, y in zip(rets.columns, rets.mean(), rets.std()):\n",
    "    plt.annotate(\n",
    "        label, \n",
    "        xy = (x, y), xytext = (50, 50),\n",
    "        textcoords = 'offset points', ha = 'right', va = 'bottom',\n",
    "        arrowprops = dict(arrowstyle = '-', connectionstyle = 'arc3,rad=-0.3'))"
   ]
  },
  {
   "cell_type": "code",
   "execution_count": null,
   "id": "7826b4d6-03de-44d7-93e1-3aa6f8862ab1",
   "metadata": {},
   "outputs": [],
   "source": [
    "# Note the use of dropna() here, otherwise the NaN values can't be read by seaborn\n",
    "sns.distplot(AAPL['Daily Return'].dropna(), bins=100)\n",
    "plt.show()"
   ]
  },
  {
   "cell_type": "code",
   "execution_count": null,
   "id": "72fdb8c5-a062-4412-92fa-0f1f84f4bc06",
   "metadata": {},
   "outputs": [],
   "source": [
    "'''A pure python RETS client for real estate data. Make requests to the MLS server to get real estate listings, media, \n",
    "and metadata'''\n",
    "\n",
    "rets.head()"
   ]
  },
  {
   "cell_type": "code",
   "execution_count": null,
   "id": "d87807b7-8acc-4325-bfa4-b8e729ea6360",
   "metadata": {},
   "outputs": [],
   "source": [
    "# The 0.05 empirical quantile of daily returns\n",
    "emp = rets['AAPL_Close'].quantile(0.05)\n",
    "print(\"The 0.05 empirical quantile of daily returns is at\", emp)"
   ]
  },
  {
   "cell_type": "code",
   "execution_count": null,
   "id": "e39004a2-38a2-466e-b265-4ae630b907b2",
   "metadata": {},
   "outputs": [],
   "source": [
    "# Set up our time\n",
    "days = 365\n",
    "\n",
    "# Now set delta t\n",
    "deltaT = 1/days\n",
    "\n",
    "# Now let's grab our mu (drift) from the expected return data we got for GOOG_close\n",
    "mu = rets.mean()['GOOG_Close']\n",
    "\n",
    "# Now let's grab the volatility of the stock from the std() of the average return\n",
    "sigma = rets.std()['GOOG_Close']"
   ]
  },
  {
   "cell_type": "code",
   "execution_count": null,
   "id": "18c2b847-a6db-4dfa-80be-0aa8a8b03b20",
   "metadata": {},
   "outputs": [],
   "source": [
    "def monte_carlo_simulation(start_price,days,mu,sigma):\n",
    "    ''' This function takes in starting stock price, number days of simulation,mu,sigma, and returns simulated price array'''\n",
    "    \n",
    "    # Define a price array\n",
    "    price = np.zeros(days)\n",
    "    price[0] = start_price\n",
    "    # Schok and Drift\n",
    "    shock = np.zeros(days)\n",
    "    drift = np.zeros(days)\n",
    "    \n",
    "    # Run price array for number of days\n",
    "    for x in range(1, days):\n",
    "        \n",
    "        # Calculate Schock\n",
    "        shock[x] = np.random.normal(loc=mu * deltaT, scale=sigma * np.sqrt(deltaT))\n",
    "        # Calculate Drift\n",
    "        drift[x] = mu * deltaT\n",
    "        # Calculate Price\n",
    "        price[x] = price[x-1] + (price[x-1] * (drift[x] + shock[x]))\n",
    "        \n",
    "    return price"
   ]
  },
  {
   "cell_type": "code",
   "execution_count": null,
   "id": "263ed80b-5aa9-41d3-9b3b-9969fe730efa",
   "metadata": {},
   "outputs": [],
   "source": [
    "GOOG.head()"
   ]
  },
  {
   "cell_type": "code",
   "execution_count": null,
   "id": "bce5ce81-f15c-4476-bfc9-8296dee8b802",
   "metadata": {},
   "outputs": [],
   "source": [
    "start_price = 1027.27\n",
    "\n",
    "for run in range(100):\n",
    "    plt.plot(monte_carlo_simulation(start_price,days,mu,sigma))\n",
    "\n",
    "plt.xlabel(\"Days\")\n",
    "plt.ylabel(\"Price\")\n",
    "plt.title('Monte Carlo Analysis for Google Stock\\n', fontsize = 14)\n",
    "plt.show()"
   ]
  },
  {
   "cell_type": "code",
   "execution_count": null,
   "id": "73d75c09-f7ec-4cb2-943e-7dcd2c10316b",
   "metadata": {},
   "outputs": [],
   "source": [
    "# Set a large numebr of runs\n",
    "runs = 10000\n",
    "\n",
    "# Create an empty matrix to hold the end price data\n",
    "simulations = np.zeros(runs)\n",
    "\n",
    "# Set the print options of numpy to only display 0-5 points from an array to suppress output\n",
    "np.set_printoptions(threshold=5)\n",
    "\n",
    "for run in range(runs):    \n",
    "    # Set the simulation data point as the last stock price for that run\n",
    "    simulations[run] = monte_carlo_simulation(start_price, days, mu, sigma)[days-1]"
   ]
  },
  {
   "cell_type": "code",
   "execution_count": null,
   "id": "6717270d-d74c-43e1-a2e0-97df596fc444",
   "metadata": {},
   "outputs": [],
   "source": [
    "# Now we'lll define q as the 1% empirical qunatile, this basically means that 99% of the values should fall between here\n",
    "q = np.percentile(simulations, 1)\n",
    "    \n",
    "# Now let's plot the distribution of the end prices\n",
    "plt.hist(simulations, bins=200)\n",
    "\n",
    "# Use plt.figtext to fill in some additional information onto the plot\n",
    "\n",
    "# Starting Price\n",
    "plt.figtext(0.6, 0.8, s=\"Start price: $%.2f\" %start_price)\n",
    "\n",
    "# Mean ending price\n",
    "plt.figtext(0.6, 0.7, \"Mean final price: $%.2f\" % simulations.mean())\n",
    "\n",
    "# Variance of the price (within 99% confidence interval)\n",
    "plt.figtext(0.6, 0.6, \"VaR(0.99): $%.2f\" % (start_price - q,))\n",
    "\n",
    "# Display 1% quantile\n",
    "plt.figtext(0.15, 0.6, \"q(0.99): $%.2f\" % q)\n",
    "\n",
    "# Plot a line at the 1% quantile result\n",
    "plt.axvline(x=q, linewidth=4, color='r')\n",
    "\n",
    "# Title\n",
    "plt.title(u\"Final price distribution for Google Stock after %s days\\n\" % days, weight='bold');"
   ]
  },
  {
   "cell_type": "code",
   "execution_count": null,
   "id": "e73084e5-0518-4874-8b2b-96a171c4f490",
   "metadata": {},
   "outputs": [],
   "source": []
  }
 ],
 "metadata": {
  "kernelspec": {
   "display_name": "Python 3 (ipykernel)",
   "language": "python",
   "name": "python3"
  },
  "language_info": {
   "codemirror_mode": {
    "name": "ipython",
    "version": 3
   },
   "file_extension": ".py",
   "mimetype": "text/x-python",
   "name": "python",
   "nbconvert_exporter": "python",
   "pygments_lexer": "ipython3",
   "version": "3.10.12"
  }
 },
 "nbformat": 4,
 "nbformat_minor": 5
}
